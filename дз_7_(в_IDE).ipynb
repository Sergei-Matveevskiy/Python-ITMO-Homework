{
  "nbformat": 4,
  "nbformat_minor": 0,
  "metadata": {
    "colab": {
      "provenance": []
    },
    "kernelspec": {
      "name": "python3",
      "display_name": "Python 3"
    },
    "language_info": {
      "name": "python"
    }
  },
  "cells": [
    {
      "cell_type": "code",
      "execution_count": null,
      "metadata": {
        "id": "m5GN9qub8xNs"
      },
      "outputs": [],
      "source": [
        "# Реализация FastAPI\n",
        "from fastapi import FastAPI\n",
        "from pydantic import BaseModel\n",
        "import pickle\n",
        "\n",
        "app = FastAPI()\n",
        "\n",
        "# Загружаем модель\n",
        "with open('model.pkl', 'rb') as f:\n",
        "    model = pickle.load(f)\n",
        "\n",
        "# Модель для входных данных\n",
        "class InputData(BaseModel):\n",
        "    size: float\n",
        "\n",
        "@app.get(\"/health\")\n",
        "def health_check():\n",
        "    return {\"status\": \"healthy\"}\n",
        "\n",
        "@app.post(\"/predict_post\")\n",
        "def predict(data: InputData):\n",
        "    prediction = model.predict([[data.size]])[0]\n",
        "    return {\"predicted_price\": prediction}\n",
        "\n",
        "# Запуск приложения:\n",
        "uvicorn app:app --reload\n",
        "\n",
        "\n",
        "# Запустите API через uvicorn, посетите адрес http://127.0.0.1:8000/docs и попробуйте отправить get/post запросы к вашему API\n",
        "# через интерфейс Swagger-документации. Результаты выполнения запросов сохраните в виде скриншотов в репозитории - 3 балла\n",
        "\n"
      ]
    }
  ]
}