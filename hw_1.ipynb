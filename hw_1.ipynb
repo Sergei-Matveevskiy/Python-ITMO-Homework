{
  "nbformat": 4,
  "nbformat_minor": 0,
  "metadata": {
    "colab": {
      "provenance": []
    },
    "kernelspec": {
      "name": "python3",
      "display_name": "Python 3"
    },
    "language_info": {
      "name": "python"
    }
  },
  "cells": [
    {
      "cell_type": "code",
      "execution_count": 89,
      "metadata": {
        "id": "Mc1zk9-8gAJG"
      },
      "outputs": [],
      "source": [
        "class Chocolate:\n",
        "  def __init__(self, price: float, dobavka: str = None, nuts: bool = False, nuts_count: int=0):\n",
        "   if price > 0:\n",
        "    self.price = price\n",
        "    self.dobavka = dobavka\n",
        "    self.nuts = nuts\n",
        "    self.nuts_count = nuts_count\n",
        "   else:\n",
        "    raise ValueError('Так, почему цена батончика меньше нуля? Ошибка!')\n",
        "\n",
        "  def show_my_chocolate(self):\n",
        "    if self.dobavka:\n",
        "      print(f\"Шоколадный батончик, добавка: {self.dobavka}\")\n",
        "    else:\n",
        "      print(\"Обычный шоколадный батончик\")\n",
        "\n",
        "  def count_nuts(self):\n",
        "    if self.nuts:\n",
        "      print(\"*\" * self.nuts_count)\n",
        "    else:\n",
        "      print(\"Орешков нет!\")\n",
        "\n",
        "  def __str__(self):\n",
        "   return f\"Шоколадный батончик, {self.price} рублей\""
      ]
    },
    {
      "cell_type": "code",
      "source": [
        "# Примеры использования функционала класса\n",
        "try:\n",
        "    chocolate1 = Chocolate(38.0, \"Мармелад\", True, 7)\n",
        "    print(chocolate1)\n",
        "    chocolate1.show_my_chocolate()\n",
        "    chocolate1.count_nuts()\n",
        "\n",
        "except ValueError as error:\n",
        "    raise error"
      ],
      "metadata": {
        "colab": {
          "base_uri": "https://localhost:8080/"
        },
        "id": "7Z0l5njZpwpm",
        "outputId": "a95146c5-7344-4b7f-8b56-9ca837ba6e04"
      },
      "execution_count": 91,
      "outputs": [
        {
          "output_type": "stream",
          "name": "stdout",
          "text": [
            "Шоколадный батончик, 38.0 рублей\n",
            "Шоколадный батончик, добавка: Мармелад\n",
            "* * * * * * * \n"
          ]
        }
      ]
    },
    {
      "cell_type": "code",
      "source": [
        "try:\n",
        "    chocolate2 = Chocolate(100, None, True, 2)\n",
        "    print(chocolate2)\n",
        "    chocolate2.show_my_chocolate()\n",
        "    chocolate2.count_nuts()\n",
        "\n",
        "except ValueError as error:\n",
        "    raise error"
      ],
      "metadata": {
        "colab": {
          "base_uri": "https://localhost:8080/"
        },
        "id": "OdePdoh52kz9",
        "outputId": "3cb7b1d9-9ac8-4ea9-abc2-8a7fc907818b"
      },
      "execution_count": 92,
      "outputs": [
        {
          "output_type": "stream",
          "name": "stdout",
          "text": [
            "Шоколадный батончик, 100 рублей\n",
            "Обычный шоколадный батончик\n",
            "* * \n"
          ]
        }
      ]
    },
    {
      "cell_type": "code",
      "source": [
        "try:\n",
        "    chocolate3 = Chocolate(-184192.0, \"Сироп\", False, 0)\n",
        "    print(chocolate3)\n",
        "    chocolate3.show_my_chocolate()\n",
        "    chocolate3.count_nuts()\n",
        "\n",
        "except ValueError as error:\n",
        "    raise error"
      ],
      "metadata": {
        "colab": {
          "base_uri": "https://localhost:8080/",
          "height": 321
        },
        "id": "Xy5PpPIw2vM1",
        "outputId": "c398974b-b8cd-4e5a-9ae8-ce9f07e1e405"
      },
      "execution_count": 93,
      "outputs": [
        {
          "output_type": "error",
          "ename": "ValueError",
          "evalue": "Так, почему цена батончика меньше нуля? Ошибка !",
          "traceback": [
            "\u001b[0;31m---------------------------------------------------------------------------\u001b[0m",
            "\u001b[0;31mValueError\u001b[0m                                Traceback (most recent call last)",
            "\u001b[0;32m<ipython-input-93-c020205e33f8>\u001b[0m in \u001b[0;36m<cell line: 1>\u001b[0;34m()\u001b[0m\n\u001b[1;32m      6\u001b[0m \u001b[0;34m\u001b[0m\u001b[0m\n\u001b[1;32m      7\u001b[0m \u001b[0;32mexcept\u001b[0m \u001b[0mValueError\u001b[0m \u001b[0;32mas\u001b[0m \u001b[0merror\u001b[0m\u001b[0;34m:\u001b[0m\u001b[0;34m\u001b[0m\u001b[0;34m\u001b[0m\u001b[0m\n\u001b[0;32m----> 8\u001b[0;31m     \u001b[0;32mraise\u001b[0m \u001b[0merror\u001b[0m\u001b[0;34m\u001b[0m\u001b[0;34m\u001b[0m\u001b[0m\n\u001b[0m",
            "\u001b[0;32m<ipython-input-93-c020205e33f8>\u001b[0m in \u001b[0;36m<cell line: 1>\u001b[0;34m()\u001b[0m\n\u001b[1;32m      1\u001b[0m \u001b[0;32mtry\u001b[0m\u001b[0;34m:\u001b[0m\u001b[0;34m\u001b[0m\u001b[0;34m\u001b[0m\u001b[0m\n\u001b[0;32m----> 2\u001b[0;31m     \u001b[0mchocolate3\u001b[0m \u001b[0;34m=\u001b[0m \u001b[0mChocolate\u001b[0m\u001b[0;34m(\u001b[0m\u001b[0;34m-\u001b[0m\u001b[0;36m184192.0\u001b[0m\u001b[0;34m,\u001b[0m \u001b[0;34m\"Сироп\"\u001b[0m\u001b[0;34m,\u001b[0m \u001b[0;32mFalse\u001b[0m\u001b[0;34m,\u001b[0m \u001b[0;36m0\u001b[0m\u001b[0;34m)\u001b[0m\u001b[0;34m\u001b[0m\u001b[0;34m\u001b[0m\u001b[0m\n\u001b[0m\u001b[1;32m      3\u001b[0m     \u001b[0mprint\u001b[0m\u001b[0;34m(\u001b[0m\u001b[0mchocolate3\u001b[0m\u001b[0;34m)\u001b[0m\u001b[0;34m\u001b[0m\u001b[0;34m\u001b[0m\u001b[0m\n\u001b[1;32m      4\u001b[0m     \u001b[0mchocolate3\u001b[0m\u001b[0;34m.\u001b[0m\u001b[0mshow_my_chocolate\u001b[0m\u001b[0;34m(\u001b[0m\u001b[0;34m)\u001b[0m\u001b[0;34m\u001b[0m\u001b[0;34m\u001b[0m\u001b[0m\n\u001b[1;32m      5\u001b[0m     \u001b[0mchocolate3\u001b[0m\u001b[0;34m.\u001b[0m\u001b[0mcount_nuts\u001b[0m\u001b[0;34m(\u001b[0m\u001b[0;34m)\u001b[0m\u001b[0;34m\u001b[0m\u001b[0;34m\u001b[0m\u001b[0m\n",
            "\u001b[0;32m<ipython-input-89-e894c004c73b>\u001b[0m in \u001b[0;36m__init__\u001b[0;34m(self, price, dobavka, nuts, nuts_count)\u001b[0m\n\u001b[1;32m      7\u001b[0m     \u001b[0mself\u001b[0m\u001b[0;34m.\u001b[0m\u001b[0mnuts_count\u001b[0m \u001b[0;34m=\u001b[0m \u001b[0mnuts_count\u001b[0m\u001b[0;34m\u001b[0m\u001b[0;34m\u001b[0m\u001b[0m\n\u001b[1;32m      8\u001b[0m    \u001b[0;32melse\u001b[0m\u001b[0;34m:\u001b[0m\u001b[0;34m\u001b[0m\u001b[0;34m\u001b[0m\u001b[0m\n\u001b[0;32m----> 9\u001b[0;31m     \u001b[0;32mraise\u001b[0m \u001b[0mValueError\u001b[0m\u001b[0;34m(\u001b[0m\u001b[0;34m'Так, почему цена батончика меньше нуля? Ошибка!'\u001b[0m\u001b[0;34m)\u001b[0m\u001b[0;34m\u001b[0m\u001b[0;34m\u001b[0m\u001b[0m\n\u001b[0m\u001b[1;32m     10\u001b[0m \u001b[0;34m\u001b[0m\u001b[0m\n\u001b[1;32m     11\u001b[0m   \u001b[0;32mdef\u001b[0m \u001b[0mshow_my_chocolate\u001b[0m\u001b[0;34m(\u001b[0m\u001b[0mself\u001b[0m\u001b[0;34m)\u001b[0m\u001b[0;34m:\u001b[0m\u001b[0;34m\u001b[0m\u001b[0;34m\u001b[0m\u001b[0m\n",
            "\u001b[0;31mValueError\u001b[0m: Так, почему цена батончика меньше нуля? Ошибка!"
          ]
        }
      ]
    }
  ]
}
